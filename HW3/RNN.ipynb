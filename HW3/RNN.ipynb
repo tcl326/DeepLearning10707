{
 "cells": [
  {
   "cell_type": "code",
   "execution_count": 1,
   "metadata": {},
   "outputs": [
    {
     "name": "stderr",
     "output_type": "stream",
     "text": [
      "Using TensorFlow backend.\n"
     ]
    }
   ],
   "source": [
    "import keras\n",
    "import numpy as np\n",
    "from keras.models import Sequential\n",
    "from keras.layers import Dense, Activation, SimpleRNN, Embedding\n",
    "from keras.optimizers import RMSprop, SGD\n",
    "from keras.models import load_model\n",
    "import pickle\n",
    "import matplotlib.pyplot as plt"
   ]
  },
  {
   "cell_type": "code",
   "execution_count": 2,
   "metadata": {},
   "outputs": [],
   "source": [
    "# Initialize Config Variables\n",
    "vocab_size = 8000\n",
    "embedding_size = 16\n",
    "batch_size = 16\n",
    "n_hidden=128\n",
    "n_visible=3"
   ]
  },
  {
   "cell_type": "code",
   "execution_count": 3,
   "metadata": {},
   "outputs": [],
   "source": [
    "class WordEmbeddingRNN():\n",
    "    def __init__(self, \n",
    "                vocab_size = 8000,\n",
    "                embedding_size = 32,\n",
    "                batch_size = 16,\n",
    "                n_hidden=128,\n",
    "                n_visible=3,\n",
    "                reg_constant = 0.001,\n",
    "                learning_rate = 0.001):\n",
    "        self.model_path = \"model_files/weights\" + str(embedding_size) + \".{epoch:02d}-{val_loss:.2f}.hdf5\"\n",
    "        self.vocab_size = vocab_size\n",
    "        self.embedding_size = embedding_size\n",
    "        self.batch_size = batch_size\n",
    "        self.n_hidden = n_hidden\n",
    "        self.n_visible = n_visible\n",
    "        self.reg_constant = reg_constant\n",
    "        \n",
    "    def build_model(self):\n",
    "        self.model = Sequential()\n",
    "        self.model.add(Embedding(self.vocab_size, self.embedding_size,  embeddings_initializer='uniform', embeddings_regularizer=l2(self.reg_constant), activity_regularizer=None, embeddings_constraint=None, mask_zero=False, input_length=self.n_visible))\n",
    "        self.model.add(SimpleRNN(self.n_hidden, activation='tanh', use_bias=True, kernel_initializer='glorot_uniform', recurrent_initializer='orthogonal', bias_initializer='zeros', kernel_regularizer=l2(self.reg_constant), recurrent_regularizer=l2(self.reg_constant), bias_regularizer=l2(self.reg_constant), activity_regularizer=None, kernel_constraint=None, recurrent_constraint=None, bias_constraint=None, dropout=0.0, recurrent_dropout=0.0, return_sequences=False, return_state=False, go_backwards=False, stateful=False, unroll=True))\n",
    "        # model.add(Flatten())\n",
    "        # model.add(Dense(n_hidden, activation='tanh'))\n",
    "        self.model.add(Dense(self.vocab_size, activation='softmax',use_bias=True, kernel_initializer='glorot_uniform', bias_initializer='zeros', kernel_regularizer=l2(self.reg_constant), bias_regularizer=l2(self.reg_constant), activity_regularizer=None, kernel_constraint=None, bias_constraint=None))\n",
    "    \n",
    "    def config_model(self, learning_rate, reduce_factor):\n",
    "        optimizer = Adam(lr=learning_rate)\n",
    "        self.model.compile(loss='categorical_crossentropy', optimizer=optimizer)\n",
    "        self.reduce_lr = ReduceLROnPlateau(monitor='val_loss', factor=reduce_factor, patience=10, verbose=0, mode='auto', epsilon=0.0001, cooldown=0, min_lr=0)\n",
    "        self.checkpoint = ModelCheckpoint(self.model_path, monitor='val_loss', verbose=1, save_best_only=False, save_weights_only=False, mode='auto', period=1)\n",
    "    \n",
    "    def train_model(self,x_train,one_hoty_train, x_val, one_hot_y_val):\n",
    "        self.history = self.model.fit(x_train, one_hot_y_train,\n",
    "          batch_size=self.batch_size,\n",
    "          epochs=100,\n",
    "          validation_data=(x_val, one_hot_y_val),\n",
    "          callbacks=[self.reduce_lr,self.checkpoint])\n",
    "        \n",
    "    def get_history(self):\n",
    "        return self.history\n",
    "    \n",
    "    def plot_model(self):\n",
    "        plot_model(self.model, to_file='model.png')\n",
    "        Image(filename='model.png')"
   ]
  },
  {
   "cell_type": "code",
   "execution_count": 4,
   "metadata": {},
   "outputs": [],
   "source": [
    "def get_sentences_list(text_file):\n",
    "    sentences_list = []\n",
    "    with open(text_file) as text:\n",
    "        for sentence in text:\n",
    "            sentence = sentence.lower()\n",
    "            sentence = \"START \" + sentence + \" END\"\n",
    "            sentence_list = sentence.split()\n",
    "            sentences_list. append(sentence_list)\n",
    "    return sentences_list"
   ]
  },
  {
   "cell_type": "code",
   "execution_count": 5,
   "metadata": {},
   "outputs": [],
   "source": [
    "def get_input_output(sentences_list, n, vocabulary_dict):\n",
    "    output = []\n",
    "    input = []\n",
    "    for sentence in sentences_list:\n",
    "        for word_index in range(len(sentence) - n -1):\n",
    "            input.append([vocabulary_dict[x] if x in vocabulary_dict else vocabulary_dict['UNK'] for x in sentence[word_index:word_index+n]] )\n",
    "            output.append(vocabulary_dict[sentence[word_index + n]] if sentence[word_index+n] in vocabulary_dict else vocabulary_dict['UNK'] )\n",
    "    # print output\n",
    "    # print input\n",
    "    return np.array(input), np.array(output)"
   ]
  },
  {
   "cell_type": "code",
   "execution_count": 6,
   "metadata": {},
   "outputs": [],
   "source": [
    "vocabulary_dict = pickle.load(open('preprocessed_dict.p','rb'))\n",
    "id_dict = {y:x for x,y in vocabulary_dict.iteritems()}"
   ]
  },
  {
   "cell_type": "code",
   "execution_count": 7,
   "metadata": {},
   "outputs": [
    {
     "name": "stdout",
     "output_type": "stream",
     "text": [
      "(82903,)\n",
      "(82903, 3)\n"
     ]
    }
   ],
   "source": [
    "x_train, y_train = get_input_output(get_sentences_list('train.txt'), n_visible, vocabulary_dict)\n",
    "x_val, y_val = get_input_output(get_sentences_list('val.txt'), n_visible, vocabulary_dict)\n",
    "one_hot_y_train = keras.utils.to_categorical(y_train, num_classes=8000)\n",
    "one_hot_y_val = keras.utils.to_categorical(y_val, num_classes=8000)\n",
    "print y_train.shape\n",
    "print x_train.shape\n"
   ]
  },
  {
   "cell_type": "code",
   "execution_count": 8,
   "metadata": {},
   "outputs": [],
   "source": [
    "model = load_model('weights16.99-6.04.hdf5')"
   ]
  },
  {
   "cell_type": "code",
   "execution_count": 9,
   "metadata": {},
   "outputs": [
    {
     "data": {
      "image/svg+xml": [
       "<svg height=\"264pt\" viewBox=\"0.00 0.00 201.00 264.00\" width=\"201pt\" xmlns=\"http://www.w3.org/2000/svg\" xmlns:xlink=\"http://www.w3.org/1999/xlink\">\n",
       "<g class=\"graph\" id=\"graph0\" transform=\"scale(1 1) rotate(0) translate(4 260)\">\n",
       "<title>G</title>\n",
       "<polygon fill=\"white\" points=\"-4,4 -4,-260 197,-260 197,4 -4,4\" stroke=\"none\"/>\n",
       "<!-- 140022975179088 -->\n",
       "<g class=\"node\" id=\"node1\"><title>140022975179088</title>\n",
       "<polygon fill=\"none\" points=\"0,-219.5 0,-255.5 193,-255.5 193,-219.5 0,-219.5\" stroke=\"black\"/>\n",
       "<text font-family=\"Times,serif\" font-size=\"14.00\" text-anchor=\"middle\" x=\"96.5\" y=\"-233.8\">embedding_6_input: InputLayer</text>\n",
       "</g>\n",
       "<!-- 140022975179664 -->\n",
       "<g class=\"node\" id=\"node2\"><title>140022975179664</title>\n",
       "<polygon fill=\"none\" points=\"16,-146.5 16,-182.5 177,-182.5 177,-146.5 16,-146.5\" stroke=\"black\"/>\n",
       "<text font-family=\"Times,serif\" font-size=\"14.00\" text-anchor=\"middle\" x=\"96.5\" y=\"-160.8\">embedding_6: Embedding</text>\n",
       "</g>\n",
       "<!-- 140022975179088&#45;&gt;140022975179664 -->\n",
       "<g class=\"edge\" id=\"edge1\"><title>140022975179088-&gt;140022975179664</title>\n",
       "<path d=\"M96.5,-219.313C96.5,-211.289 96.5,-201.547 96.5,-192.569\" fill=\"none\" stroke=\"black\"/>\n",
       "<polygon fill=\"black\" points=\"100,-192.529 96.5,-182.529 93.0001,-192.529 100,-192.529\" stroke=\"black\"/>\n",
       "</g>\n",
       "<!-- 140022975176848 -->\n",
       "<g class=\"node\" id=\"node3\"><title>140022975176848</title>\n",
       "<polygon fill=\"none\" points=\"13,-73.5 13,-109.5 180,-109.5 180,-73.5 13,-73.5\" stroke=\"black\"/>\n",
       "<text font-family=\"Times,serif\" font-size=\"14.00\" text-anchor=\"middle\" x=\"96.5\" y=\"-87.8\">simple_rnn_6: SimpleRNN</text>\n",
       "</g>\n",
       "<!-- 140022975179664&#45;&gt;140022975176848 -->\n",
       "<g class=\"edge\" id=\"edge2\"><title>140022975179664-&gt;140022975176848</title>\n",
       "<path d=\"M96.5,-146.313C96.5,-138.289 96.5,-128.547 96.5,-119.569\" fill=\"none\" stroke=\"black\"/>\n",
       "<polygon fill=\"black\" points=\"100,-119.529 96.5,-109.529 93.0001,-119.529 100,-119.529\" stroke=\"black\"/>\n",
       "</g>\n",
       "<!-- 140022974478992 -->\n",
       "<g class=\"node\" id=\"node4\"><title>140022974478992</title>\n",
       "<polygon fill=\"none\" points=\"45.5,-0.5 45.5,-36.5 147.5,-36.5 147.5,-0.5 45.5,-0.5\" stroke=\"black\"/>\n",
       "<text font-family=\"Times,serif\" font-size=\"14.00\" text-anchor=\"middle\" x=\"96.5\" y=\"-14.8\">dense_5: Dense</text>\n",
       "</g>\n",
       "<!-- 140022975176848&#45;&gt;140022974478992 -->\n",
       "<g class=\"edge\" id=\"edge3\"><title>140022975176848-&gt;140022974478992</title>\n",
       "<path d=\"M96.5,-73.3129C96.5,-65.2895 96.5,-55.5475 96.5,-46.5691\" fill=\"none\" stroke=\"black\"/>\n",
       "<polygon fill=\"black\" points=\"100,-46.5288 96.5,-36.5288 93.0001,-46.5289 100,-46.5288\" stroke=\"black\"/>\n",
       "</g>\n",
       "</g>\n",
       "</svg>"
      ],
      "text/plain": [
       "<IPython.core.display.SVG object>"
      ]
     },
     "execution_count": 9,
     "metadata": {},
     "output_type": "execute_result"
    }
   ],
   "source": [
    "from IPython.display import SVG\n",
    "from keras.utils.vis_utils import model_to_dot\n",
    "\n",
    "SVG(model_to_dot(model).create(prog='dot', format='svg'))"
   ]
  },
  {
   "cell_type": "code",
   "execution_count": 10,
   "metadata": {},
   "outputs": [],
   "source": [
    "from keras.utils import plot_model\n",
    "\n",
    "plot_model(model, to_file='model.png', show_shapes=True)\n"
   ]
  },
  {
   "cell_type": "code",
   "execution_count": 88,
   "metadata": {},
   "outputs": [
    {
     "name": "stdout",
     "output_type": "stream",
     "text": [
      "(8000, 16)\n",
      "{'embeddings_initializer': {'class_name': 'RandomUniform', 'config': {'maxval': 0.05, 'seed': None, 'minval': -0.05}}, 'name': u'embedding_6', 'dtype': u'float32', 'output_dim': 16, 'trainable': True, 'embeddings_regularizer': {'class_name': 'L1L2', 'config': {'l2': 0.0010000000474974513, 'l1': 0.0}}, 'input_dim': 8000, 'mask_zero': False, 'embeddings_constraint': None, 'batch_input_shape': (None, 3), 'activity_regularizer': None, 'input_length': 3}\n",
      "(16, 128)\n",
      "{'trainable': True, 'recurrent_initializer': {'class_name': 'Orthogonal', 'config': {'seed': None, 'gain': 1.0}}, 'use_bias': True, 'bias_regularizer': {'class_name': 'L1L2', 'config': {'l2': 0.0010000000474974513, 'l1': 0.0}}, 'return_state': False, 'unroll': True, 'bias_initializer': {'class_name': 'Zeros', 'config': {}}, 'units': 128, 'activity_regularizer': None, 'recurrent_dropout': 0.0, 'kernel_initializer': {'class_name': 'VarianceScaling', 'config': {'distribution': u'uniform', 'scale': 1.0, 'seed': None, 'mode': u'fan_avg'}}, 'kernel_constraint': None, 'activation': 'tanh', 'stateful': False, 'dropout': 0.0, 'recurrent_regularizer': {'class_name': 'L1L2', 'config': {'l2': 0.0010000000474974513, 'l1': 0.0}}, 'name': u'simple_rnn_6', 'bias_constraint': None, 'go_backwards': False, 'kernel_regularizer': {'class_name': 'L1L2', 'config': {'l2': 0.0010000000474974513, 'l1': 0.0}}, 'return_sequences': False, 'recurrent_constraint': None}\n",
      "(128, 8000)\n",
      "{'kernel_initializer': {'class_name': 'VarianceScaling', 'config': {'distribution': u'uniform', 'scale': 1.0, 'seed': None, 'mode': u'fan_avg'}}, 'name': u'dense_5', 'kernel_constraint': None, 'bias_regularizer': {'class_name': 'L1L2', 'config': {'l2': 0.0010000000474974513, 'l1': 0.0}}, 'bias_constraint': None, 'activation': 'softmax', 'trainable': True, 'kernel_regularizer': {'class_name': 'L1L2', 'config': {'l2': 0.0010000000474974513, 'l1': 0.0}}, 'bias_initializer': {'class_name': 'Zeros', 'config': {}}, 'units': 8000, 'use_bias': True, 'activity_regularizer': None}\n"
     ]
    }
   ],
   "source": [
    "for layer in model.layers:\n",
    "    print layer.get_weights()[0].shape\n",
    "    print layer.get_config()"
   ]
  },
  {
   "cell_type": "code",
   "execution_count": 171,
   "metadata": {},
   "outputs": [],
   "source": [
    "\n",
    "def generate_sentences(three_word_list):\n",
    "    for three_words in three_word_list:\n",
    "        output_list = three_words\n",
    "        c = 0\n",
    "        output = ''\n",
    "        while c < 10 and output != 'END':\n",
    "            x = np.array([[vocabulary_dict[output_list[-3]],vocabulary_dict[output_list[-2]], vocabulary_dict[output_list[-1]]]])\n",
    "        #     x = x_train[1:2]\n",
    "#             print np.argmax(model.predict(x, batch_size=1, verbose=0)[0])\n",
    "            output = id_dict[np.argmax(model.predict(x, batch_size=1, verbose=0)[0])]\n",
    "            output_list.append(output)\n",
    "            c+=1\n",
    "        print output_list\n",
    "#         sentences_list.append(' '.join(sentence))\n",
    "        print ' '.join(output_list)\n",
    "        "
   ]
  },
  {
   "cell_type": "code",
   "execution_count": 173,
   "metadata": {},
   "outputs": [
    {
     "name": "stdout",
     "output_type": "stream",
     "text": [
      "['the', 'new', 'york', ',', 'the', 'UNK', 'of', 'the', 'UNK', 'of', 'the', 'UNK', 'of']\n",
      "the new york , the UNK of the UNK of the UNK of\n",
      "['city', 'of', 'new', 'york', ',', 'the', 'UNK', 'of', 'the', 'UNK', 'of', 'the', 'UNK']\n",
      "city of new york , the UNK of the UNK of the UNK\n",
      "['life', 'in', 'the', 'UNK', ',', \"''\", 'says', '0', '*t*-1', '.', \"''\", 'said', '0']\n",
      "life in the UNK , '' says 0 *t*-1 . '' said 0\n",
      "['united', 'states', 'of', 'the', 'UNK', 'of', 'the', 'UNK', 'of', 'the', 'UNK', 'of', 'the']\n",
      "united states of the UNK of the UNK of the UNK of the\n",
      "['i', 'lost', 'my', 'the', 'UNK', 'of', 'the', 'UNK', 'of', 'the', 'UNK', 'of', 'the']\n",
      "i lost my the UNK of the UNK of the UNK of the\n"
     ]
    }
   ],
   "source": [
    "three_word_list = [['the','new', 'york'],['city','of','new'],['life', 'in', 'the'],['united','states','of'],['i','lost','my']]\n",
    "\n",
    "generate_sentences(three_word_list)\n",
    "# print output_list"
   ]
  },
  {
   "cell_type": "code",
   "execution_count": 130,
   "metadata": {},
   "outputs": [],
   "source": [
    "def difference_between_words(word1, word2, vocabulary_dict, word_embedding_weights):\n",
    "    print word_embedding_weights[vocabulary_dict[word1]]\n",
    "    print word_embedding_weights[vocabulary_dict[word2]]\n",
    "    return difference_between_embeddings(word_embedding_weights[vocabulary_dict[word1]],word_embedding_weights[vocabulary_dict[word2]])\n",
    "\n",
    "def difference_between_embeddings(embedding_one, embedding_two):\n",
    "    euclidean_dist = np.linalg.norm(embedding_one - embedding_two)\n",
    "    return euclidean_dist"
   ]
  },
  {
   "cell_type": "code",
   "execution_count": 128,
   "metadata": {},
   "outputs": [],
   "source": [
    "word_embedding_weights = model.layers[0].get_weights()[0]"
   ]
  },
  {
   "cell_type": "code",
   "execution_count": 151,
   "metadata": {},
   "outputs": [
    {
     "name": "stdout",
     "output_type": "stream",
     "text": [
      "[  5.22842602e-05   4.10867520e-02   1.02738336e-01   1.79046147e-05\n",
      "  -2.50138752e-02   8.53917096e-03  -2.72150133e-02   3.80369276e-02\n",
      "  -2.60896911e-03   1.14270225e-02  -2.63578035e-02  -9.20016691e-02\n",
      "   3.83291915e-02  -4.49371412e-02  -8.80436003e-02  -2.36374065e-02]\n",
      "[ -3.95645839e-05  -1.75337866e-02   3.59031670e-02   2.36680848e-04\n",
      "  -1.74732655e-02  -2.70102601e-02  -3.71757103e-03   5.61892847e-03\n",
      "  -2.85587361e-04   5.09307440e-03  -2.65304595e-02  -1.83584038e-02\n",
      "   6.55516936e-03  -7.96384066e-02  -3.53710018e-02  -2.76069734e-02]\n",
      "0.145945\n"
     ]
    }
   ],
   "source": [
    "print difference_between_words('stock','exchange', vocabulary_dict, word_embedding_weights)"
   ]
  },
  {
   "cell_type": "code",
   "execution_count": 155,
   "metadata": {},
   "outputs": [
    {
     "name": "stdout",
     "output_type": "stream",
     "text": [
      "[  5.22842602e-05   4.10867520e-02   1.02738336e-01   1.79046147e-05\n",
      "  -2.50138752e-02   8.53917096e-03  -2.72150133e-02   3.80369276e-02\n",
      "  -2.60896911e-03   1.14270225e-02  -2.63578035e-02  -9.20016691e-02\n",
      "   3.83291915e-02  -4.49371412e-02  -8.80436003e-02  -2.36374065e-02]\n",
      "[  1.18011670e-07  -1.36980088e-03  -1.44338114e-02  -2.16358080e-06\n",
      "   2.22762488e-03   2.51905993e-03  -3.88336852e-02  -2.80646589e-02\n",
      "   1.95567310e-03  -5.40890684e-03   1.91920847e-02   5.94580285e-02\n",
      "  -2.74382439e-02   1.49775501e-02   1.22387065e-02  -9.28732194e-03]\n",
      "0.253597\n"
     ]
    }
   ],
   "source": [
    "print difference_between_words('stock','price', vocabulary_dict, word_embedding_weights)"
   ]
  },
  {
   "cell_type": "code",
   "execution_count": 154,
   "metadata": {},
   "outputs": [
    {
     "name": "stdout",
     "output_type": "stream",
     "text": [
      "[  5.22842602e-05   4.10867520e-02   1.02738336e-01   1.79046147e-05\n",
      "  -2.50138752e-02   8.53917096e-03  -2.72150133e-02   3.80369276e-02\n",
      "  -2.60896911e-03   1.14270225e-02  -2.63578035e-02  -9.20016691e-02\n",
      "   3.83291915e-02  -4.49371412e-02  -8.80436003e-02  -2.36374065e-02]\n",
      "[  1.91627828e-06  -8.42060521e-03  -7.24444017e-02  -2.50331177e-05\n",
      "   2.57820543e-02  -6.26633409e-03   2.20071860e-02  -1.13242259e-03\n",
      "  -6.75145056e-05  -3.11201118e-04  -1.41763156e-02   2.06105993e-03\n",
      "  -1.14133162e-03  -3.55833545e-02   6.31558448e-02  -3.05776065e-03]\n",
      "0.271969\n"
     ]
    }
   ],
   "source": [
    "print difference_between_words('stock','bottle', vocabulary_dict, word_embedding_weights)"
   ]
  },
  {
   "cell_type": "code",
   "execution_count": 159,
   "metadata": {},
   "outputs": [
    {
     "name": "stdout",
     "output_type": "stream",
     "text": [
      "[  5.22842602e-05   4.10867520e-02   1.02738336e-01   1.79046147e-05\n",
      "  -2.50138752e-02   8.53917096e-03  -2.72150133e-02   3.80369276e-02\n",
      "  -2.60896911e-03   1.14270225e-02  -2.63578035e-02  -9.20016691e-02\n",
      "   3.83291915e-02  -4.49371412e-02  -8.80436003e-02  -2.36374065e-02]\n",
      "[ -3.68407986e-04  -2.96845194e-02  -2.37140758e-03   1.10979468e-04\n",
      "  -2.34217290e-02  -3.87106501e-02   6.44493029e-02  -7.08316937e-02\n",
      "   6.00481546e-03  -7.86116626e-03  -1.17028050e-01   1.15702584e-01\n",
      "  -6.75516948e-02  -2.55539000e-01  -1.15735587e-02  -6.24788515e-02]\n",
      "0.391504\n"
     ]
    }
   ],
   "source": [
    "print difference_between_words('stock','president', vocabulary_dict, word_embedding_weights)"
   ]
  },
  {
   "cell_type": "code",
   "execution_count": 174,
   "metadata": {},
   "outputs": [
    {
     "name": "stdout",
     "output_type": "stream",
     "text": [
      "[  5.22842602e-05   4.10867520e-02   1.02738336e-01   1.79046147e-05\n",
      "  -2.50138752e-02   8.53917096e-03  -2.72150133e-02   3.80369276e-02\n",
      "  -2.60896911e-03   1.14270225e-02  -2.63578035e-02  -9.20016691e-02\n",
      "   3.83291915e-02  -4.49371412e-02  -8.80436003e-02  -2.36374065e-02]\n",
      "[  2.39142973e-05  -5.53090237e-02  -8.08851700e-03   6.01941247e-05\n",
      "  -7.09278369e-03  -4.90426980e-02   2.92377267e-02   6.53747097e-02\n",
      "  -3.71069252e-03   1.26294559e-02   7.28604058e-03  -1.38582632e-01\n",
      "   6.41587675e-02  -1.55573925e-02   2.19248515e-03   2.81419634e-05]\n",
      "0.206599\n"
     ]
    }
   ],
   "source": [
    "print difference_between_words('stock','UNK', vocabulary_dict, word_embedding_weights)"
   ]
  },
  {
   "cell_type": "code",
   "execution_count": 176,
   "metadata": {},
   "outputs": [],
   "source": [
    "model2 = load_model('weights2.99-5.74.hdf5')"
   ]
  },
  {
   "cell_type": "code",
   "execution_count": 189,
   "metadata": {},
   "outputs": [
    {
     "name": "stdout",
     "output_type": "stream",
     "text": [
      "(8000, 2)\n"
     ]
    }
   ],
   "source": [
    "print model2.layers[0].get_weights()[0].shape\n",
    "word_embedding =  model2.layers[0].get_weights()[0]\n",
    "pickle.dump(word_embedding, open('word_embedding_weights128tanh2.p','wb'))"
   ]
  },
  {
   "cell_type": "code",
   "execution_count": 188,
   "metadata": {},
   "outputs": [
    {
     "data": {
      "image/png": "[encoded data removed]",
      "text/plain": [
       "<matplotlib.figure.Figure at 0x7fe644972ad0>"
      ]
     },
     "metadata": {},
     "output_type": "display_data"
    }
   ],
   "source": [
    "chosen_index = np.random.choice(8000, 500, replace=False)\n",
    "chosen_embedding = word_embedding[chosen_index]\n",
    "x = chosen_embedding[:,0]\n",
    "y = chosen_embedding[:,1]\n",
    "\n",
    "plt.scatter(x,y)\n",
    "for i in range(len(chosen_index)):\n",
    "    plt.annotate(id_dict[chosen_index[i]],xy=(x[i],y[i]))\n",
    "plt.savefig(\"Plot_embedding\")\n",
    "plt.show()"
   ]
  },
  {
   "cell_type": "code",
   "execution_count": null,
   "metadata": {},
   "outputs": [],
   "source": []
  }
 ],
 "metadata": {
  "kernelspec": {
   "display_name": "Python 2",
   "language": "python",
   "name": "python2"
  },
  "language_info": {
   "codemirror_mode": {
    "name": "ipython",
    "version": 2
   },
   "file_extension": ".py",
   "mimetype": "text/x-python",
   "name": "python",
   "nbconvert_exporter": "python",
   "pygments_lexer": "ipython2",
   "version": "2.7.12"
  }
 },
 "nbformat": 4,
 "nbformat_minor": 2
}
